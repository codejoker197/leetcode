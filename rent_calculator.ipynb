{
  "nbformat": 4,
  "nbformat_minor": 0,
  "metadata": {
    "colab": {
      "provenance": [],
      "authorship_tag": "ABX9TyMJj+5h0dXSmb5SVpU0VQhe",
      "include_colab_link": true
    },
    "kernelspec": {
      "name": "python3",
      "display_name": "Python 3"
    },
    "language_info": {
      "name": "python"
    }
  },
  "cells": [
    {
      "cell_type": "markdown",
      "metadata": {
        "id": "view-in-github",
        "colab_type": "text"
      },
      "source": [
        "<a href=\"https://colab.research.google.com/github/codejoker197/leetcode/blob/main/rent_calculator.ipynb\" target=\"_parent\"><img src=\"https://colab.research.google.com/assets/colab-badge.svg\" alt=\"Open In Colab\"/></a>"
      ]
    },
    {
      "cell_type": "code",
      "source": [
        "# Input we need from the user\n",
        "\n",
        "# output---->\n",
        "# total_expense calculate\n",
        "# total ammount to pay each person\n",
        "\n",
        "# total flat rent----->\n",
        "rent = int(input(\"Enter your flat rent :-\"))\n",
        "# total grocery ordered-----.\n",
        "grocery = int(input(\"Enter the amount of grocery ordered:-\"))\n",
        "# electricity bill----->\n",
        "electricity_bill = int(input(\"Enter the total of electricity bill :- \"))\n",
        "# total teenant/people living in hostel or room------>\n",
        "people = int(input(\"Enter the number of people in living hostel or room :-\"))\n",
        "\n",
        "# Calculate totals\n",
        "total_expense = rent + grocery + electricity_bill\n",
        "per_person = total_expense / people\n",
        "\n",
        "print(\"____________ Expense Summary _________\")\n",
        "print(\"Total Rent:           ₹\", rent)\n",
        "print(\"grocery:              ₹\", grocery)\n",
        "print(\"electricity Bill:     ₹\", electricity_bill)\n",
        "print(\"--------------------------------------\")\n",
        "print(\"Total Expense:        ₹\", total_expense)\n",
        "print(\"each person will pay: ₹\", round(per_person))\n",
        "print(\"______________________________________\")\n",
        "\n",
        "print(\"Thank you! Split expenses easily\")"
      ],
      "metadata": {
        "colab": {
          "base_uri": "https://localhost:8080/"
        },
        "id": "lmP0XWcZwjvL",
        "outputId": "94fb3527-7120-4a12-95cf-f5bdd2c92ab2"
      },
      "execution_count": null,
      "outputs": [
        {
          "output_type": "stream",
          "name": "stdout",
          "text": [
            "Enter your flat rent :-25000\n",
            "Enter the amount of grocery ordered:-5000\n",
            "Enter the total of electricity bill :- 3500\n",
            "Enter the number of people in living hostel or room :-4\n",
            "____________ Expense Summary _________\n",
            "Total Rent:           ₹ 25000\n",
            "grocery:              ₹ 5000\n",
            "electricity Bill:     ₹ 3500\n",
            "--------------------------------------\n",
            "Total Expense:        ₹ 33500\n",
            "each person will pay: ₹ 8375\n",
            "______________________________________\n",
            "Thank you! Split expenses easily\n"
          ]
        }
      ]
    }
  ]
}